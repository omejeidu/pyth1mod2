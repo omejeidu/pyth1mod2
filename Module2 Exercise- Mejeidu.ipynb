{
 "cells": [
  {
   "cell_type": "markdown",
   "metadata": {},
   "source": [
    "## Exercises\n",
    "### Write the pseudocode for these problems. \n",
    "\n",
    "#### Define the problem by constructing an IPO diagram showing input, output, and processing steps\n",
    "Ask yourself\n",
    "- What control structures (sequence, selection and repetition) are required?\n",
    "- What variables are required?\n",
    "\n",
    "Show a check of your solution with **test data** for at least **two valid test cases**\n",
    "If you use the numbers provided in the example then the correct pseudocode will calculate the same result.\n",
    "    "
   ]
  },
  {
   "cell_type": "markdown",
   "metadata": {},
   "source": [
    "#### 1. Find the average score\n",
    "A program is needed to prompt the user operator for exam scores, calculate the average score and display the result to the screen. The average score is calculated as the sum of the scores divided by the number of scores."
   ]
  },
  {
   "cell_type": "markdown",
   "metadata": {},
   "source": [
    "Input: count of total scores, sum of all scores\n",
    "\n",
    "Process:\n",
    "\n",
    "BEGIN\n",
    "set x to 1\n",
    "set total to 0\n",
    "loop counter <=7\n",
    "    prompt user for exam score\n",
    "    get score\n",
    "    add score to total\n",
    "    add 1 to x\n",
    "end loop\n",
    "END\n",
    "\n",
    "add sum of x\n",
    "display sum of x/7\n",
    "\n",
    "\n",
    "Output: displayed result of avg score\n",
    "\n",
    "ex: input- there are 7 students with scores of 43, 88, 100, 92, 76, 70, 83\n",
    "process-\n",
    "\n",
    "(43+88+100+92+76+70+83)/7\n",
    "output- =78.86\n",
    "\n",
    "\n"
   ]
  },
  {
   "cell_type": "markdown",
   "metadata": {},
   "source": [
    "#### 2. How much water runs off a roof in a rain storm?\n",
    "To calculate the runoff from any given rainfall: Take the dimensions of the footprint of the roof and convert them to inches. (So, a 50' x 20' roof is 600\" x 240\"). Multiply the roof dimensions by the number of inches of rainfall. As an example, 600\" x 240\" x 1\" = 144,000 cubic inches of water for an inch of rainfall. Divide that result by 231 to get the number of gallons (because 1 gallon = 231 cubic inches). (144,000/231 = 623.38)."
   ]
  },
  {
   "cell_type": "markdown",
   "metadata": {},
   "source": [
    "I:dimensions of the footprint of the roof, ft to in conversion, inches of rainfall, cubic in to gal conversion\n",
    "\n",
    "P:\n",
    "x by y ft (12)= x by y in\n",
    "\n",
    "x by y in (n)= n cubic in of rainfall\n",
    "\n",
    "z= n/231 gallons of rainfall\n",
    "    \n",
    "O:n/231 gallons of rainfall"
   ]
  },
  {
   "cell_type": "markdown",
   "metadata": {},
   "source": [
    "#### 3. Process customer record\n",
    "A program is required to read a customer’s name, a purchase amount and a tax code. The tax code has been validated and will be one of the following: 0 tax exempt (0%) 1 state sales tax only (3%) 2 federal and state sales tax (5%) 3 special sales tax (7%) The program must then compute the sales tax and the total amount due,and print the customer’s name, purchase amount, sales tax and total amount due."
   ]
  },
  {
   "cell_type": "markdown",
   "metadata": {},
   "source": [
    "Input: user's name, purchase amount, x\n",
    "\n",
    "Process:\n",
    "BEGIN\n",
    "\n",
    "input user's name\n",
    "input purchase amount\n",
    "\n",
    "set x to 0\n",
    "loop x <= 3\n",
    "if x=0\n",
    "    set taxrate=0\n",
    "elseif x=1\n",
    "    set taxrate= 3%\n",
    "elseif x=2\n",
    "    set taxrate= 5%\n",
    "elseif x=3\n",
    "    set taxrate= 7%\n",
    "end loop\n",
    "\n",
    "print user's name\n",
    "print purchase amount\n",
    "print taxrate\n",
    "amountdue= purchase amount (tax rate)\n",
    "print amountdue\n",
    "\n",
    "END\n",
    "\n",
    "Output is print statements\n",
    "\n",
    "\n",
    "EX: \n",
    "user's name: Meka\n",
    "purchase amt: $100\n",
    "x=2\n",
    "\n",
    "amountdue= 100(5%)\n",
    "output= Meka, $100, 5%, $5\n"
   ]
  },
  {
   "cell_type": "markdown",
   "metadata": {},
   "source": [
    "#### 4. Calculate employee's pay \n",
    "A program is required by a company to read an employee’s number, pay rate and the number of hours worked in a week. The program is then to validate the pay rate field and the hours worked field and, if valid, compute the employee’s weekly pay and then print it and the input data.\n",
    "\n",
    "Validation: According to the company’s rules, the maximum hours an employee can work per week is 60 hours, and the maximum hourly rate is $25.00 per hour. If the hours worked field or the hourly rate field is out of range, the input data and an appropriate message are to be printed and the employee’s weekly pay is not to be calculated.\n",
    "\n",
    "Weekly pay calculation: Weekly pay is calculated as hours worked times pay rate. If more than 35 hours are worked, payment for the overtime hours worked is calculated at time-and-a-half."
   ]
  },
  {
   "cell_type": "markdown",
   "metadata": {},
   "source": [
    "BEGIN\n",
    "\n",
    "user inputs employee number\n",
    "user inputs payrate\n",
    "user inputs # of hours worked (x)\n",
    "\n",
    "user sets x\n",
    "loop\n",
    "if x>60\n",
    "    print 'Pay cannot be calculated'\n",
    "elseif 0<x>35\n",
    "    set y=25(x)\n",
    "elseif 35<x>=60\n",
    "    set y=25(1.5x)\n",
    "end loop\n",
    "print x\n",
    "print y\n",
    "\n",
    "END\n",
    "    \n",
    "    \n",
    "    \n",
    "ex: input: employee's number, payrate, number of hours worked\n",
    "    number of hrs worked=40\n",
    "    \n",
    "process: x=40 thus y=24(1.5(40))\n",
    "\n",
    "output: $1,440"
   ]
  }
 ],
 "metadata": {
  "kernelspec": {
   "display_name": "Python 3 (ipykernel)",
   "language": "python",
   "name": "python3"
  },
  "language_info": {
   "codemirror_mode": {
    "name": "ipython",
    "version": 3
   },
   "file_extension": ".py",
   "mimetype": "text/x-python",
   "name": "python",
   "nbconvert_exporter": "python",
   "pygments_lexer": "ipython3",
   "version": "3.9.12"
  },
  "toc": {
   "base_numbering": 1,
   "nav_menu": {},
   "number_sections": true,
   "sideBar": true,
   "skip_h1_title": false,
   "title_cell": "Table of Contents",
   "title_sidebar": "Contents",
   "toc_cell": false,
   "toc_position": {},
   "toc_section_display": true,
   "toc_window_display": false
  }
 },
 "nbformat": 4,
 "nbformat_minor": 2
}
